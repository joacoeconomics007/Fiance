{
 "cells": [
  {
   "cell_type": "code",
   "execution_count": 1,
   "metadata": {},
   "outputs": [],
   "source": [
    "import pandas as pd\n",
    "import yfinance as yf\n",
    "import numpy as np\n",
    "import plotly.express as px\n",
    "import matplotlib.pyplot as plt"
   ]
  },
  {
   "cell_type": "markdown",
   "metadata": {},
   "source": [
    "# Info"
   ]
  },
  {
   "cell_type": "code",
   "execution_count": 2,
   "metadata": {},
   "outputs": [],
   "source": [
    "stocks_names = 30\n",
    "index = '^MXX'\n",
    "ipc = 'AC.MX  ACTINVRB.MX  AEROMEX.MX  AGUA.MX  AHMSA.MX  ALEATIC.MX  ALFA.MX  ALPEKA.MX  ALSEA.MX  ALTERNAB.MX  AMXL.MX  ANB.MX  ARA.MX  ASURb.MX  AUTLANB.MX  AXTELCPO.MX  AZTECACPO.MX  BACHOCOB.MX  BAFARB.MX  BBAJIOO.MX  BBVA.MX  BEVIDESB.MX  BIMBOA.MX  BOLSAA.MX  BSMXB.MX  CABLECPO.MX  CEMEXCPO.MX  CERAMICB.MX  CHDRAUIB.MX  CIDMEGA.MX  CIEB.MX  CMOCTEZ.MX  CMRB.MX  COLLADO.MX  CONVERA.MX  CREAL.MX  CUERVO.MX  CULTIBAB.MX  CYDSASAA.MX  DINEB.MX  ELEKTRA.MX  ELEMAT.MX  FEMSAUBD.MX  FINDEP.MX  FORTALE.MX  FRAGUAB.MX  FRES.MX  GAPB.MX  GBMO.MX  GCARSOA1.MX  GCC.MX  GENTERA.MX  GFAMSAA.MX  GFINBURO.MX  GFNORTEO.MX  GICSAB.MX  GIGANTE.MX  GMD.MX  GMEXICOB.MX  GMXT.MX  GNP.MX  GOMO.MX  GPH1.MX  GPROFUT.MX  GRUMAB.MX  GSANBORB-1.MX  HCITY.MX  HERDEZ.MX  HOMEX.MX  HOTEL.MX  IASASA.MX  ICA.MX  ICHB.MX  IDEALB-1.MX  JAVER.MX  KIMBERA.MX  KOFUBL.MX  KUOB.MX  LABB.MX  LACOMERUBC.MX  LALAB.MX  LAMOSA.MX  LASEG.MX  LIVEPOLC-1.MX  MAXCOMA.MX  MEDICAB.MX  MEGACPO.MX  MFRISCOA-1.MX  MINSAB.MX  MONEXB.MX  NEMAKA.MX  OMAB.MX  ORBIA.MX  PASAB.MX  PE&OLES.MX  PINFRA.MX  PLANI.MX  POCHTECB.MX  POSADASA.MX  PV.MX  Q.MX  RA.MX  RLHA.MX  SAN.MX  SIMECB.MX  SITESB-1.MX  SORIANAB.MX  SPORTS.MX  TEAKCPO.MX  TLEVISACPO.MX  TMMA.MX  TRAXIONA.MX  TS.MX  UNIFINA.MX  URBI.MX  VALUEGFO.MX  VASCONI.MX  VESTA.MX  VINTE.MX  VISTAA.MX  VITROA.MX  VOLARA.MX  WALMEX.MX'"
   ]
  },
  {
   "cell_type": "code",
   "execution_count": 3,
   "metadata": {},
   "outputs": [
    {
     "name": "stdout",
     "output_type": "stream",
     "text": [
      "[*********************100%***********************]  1 of 1 completed\n",
      "[*********************100%***********************]  123 of 123 completed\n",
      "[*********************100%***********************]  123 of 123 completed\n"
     ]
    }
   ],
   "source": [
    "periodicidad = '1y'\n",
    "intervalo = '1d'\n",
    "factor = 252\n",
    "\n",
    "df_index = yf.download( index , period = periodicidad , interval = intervalo)\n",
    "df_index = df_index['Close']\n",
    "\n",
    "df_stocks = yf.download( ipc , period = periodicidad , interval = intervalo)\n",
    "df_stocks = df_stocks['Close']\n",
    "\n",
    "df_vol =  yf.download( ipc , period = periodicidad , interval = intervalo)\n",
    "df_vol = df_vol['Volume']"
   ]
  },
  {
   "cell_type": "code",
   "execution_count": null,
   "metadata": {},
   "outputs": [],
   "source": [
    "px.line(df_stocks)"
   ]
  },
  {
   "cell_type": "code",
   "execution_count": null,
   "metadata": {},
   "outputs": [],
   "source": [
    "rend_semanal = pd.DataFrame()\n",
    "rend_semanal['Rendimiento semanal'] = (np.log(df_stocks.iloc[-1] / df_stocks.iloc[-6])*100).round(2)\n",
    "rend_semanal['Precio hace 5 días'] = df_stocks.iloc[-6].round(2)\n",
    "rend_semanal['Ultimo precio'] = df_stocks.iloc[-1].round(2)\n",
    "rend_semanal['Volumen promedio']\n",
    "rend_semanal.sort_values('Rendimiento semanal',ascending=False).head(10)"
   ]
  },
  {
   "cell_type": "code",
   "execution_count": null,
   "metadata": {},
   "outputs": [],
   "source": [
    "df_stocks.keys()"
   ]
  },
  {
   "cell_type": "code",
   "execution_count": null,
   "metadata": {},
   "outputs": [],
   "source": [
    "x = input('Introduce un ticker ')+'.MX'\n",
    "data = df_stocks[x]\n",
    "analysis = pd.DataFrame(data)\n",
    "analysis['MA05'] = analysis[x].rolling(5).mean()\n",
    "analysis['MA20'] = analysis[x].rolling(20).mean()\n",
    "px.line(analysis)"
   ]
  },
  {
   "cell_type": "code",
   "execution_count": null,
   "metadata": {},
   "outputs": [],
   "source": [
    "print('Precio máximo: ',max(df_stocks[x]))\n",
    "print('Precio mínimo: ',min(df_stocks[x]))\n",
    "print('Precio ayer: ',df_stocks[x].iloc[-1])"
   ]
  },
  {
   "cell_type": "code",
   "execution_count": 4,
   "metadata": {},
   "outputs": [
    {
     "data": {
      "text/plain": [
       "1718"
      ]
     },
     "execution_count": 4,
     "metadata": {},
     "output_type": "execute_result"
    }
   ],
   "source": [
    "859*2"
   ]
  },
  {
   "cell_type": "code",
   "execution_count": null,
   "metadata": {},
   "outputs": [],
   "source": []
  },
  {
   "cell_type": "code",
   "execution_count": null,
   "metadata": {},
   "outputs": [],
   "source": []
  },
  {
   "cell_type": "code",
   "execution_count": null,
   "metadata": {},
   "outputs": [],
   "source": []
  },
  {
   "cell_type": "code",
   "execution_count": null,
   "metadata": {},
   "outputs": [],
   "source": []
  },
  {
   "cell_type": "code",
   "execution_count": null,
   "metadata": {},
   "outputs": [],
   "source": []
  },
  {
   "cell_type": "code",
   "execution_count": null,
   "metadata": {},
   "outputs": [],
   "source": []
  },
  {
   "cell_type": "code",
   "execution_count": null,
   "metadata": {},
   "outputs": [],
   "source": []
  },
  {
   "cell_type": "code",
   "execution_count": null,
   "metadata": {},
   "outputs": [],
   "source": []
  },
  {
   "cell_type": "markdown",
   "metadata": {},
   "source": [
    "# Análisis"
   ]
  },
  {
   "cell_type": "code",
   "execution_count": null,
   "metadata": {},
   "outputs": [],
   "source": [
    "def rend(df):\n",
    "    return np.log(df / df.shift(1)).dropna()\n",
    "\n",
    "def cov(df):\n",
    "    return df.cov()\n",
    "\n",
    "# Rendimientos\n",
    "rend_stocks = rend(df_stocks)                                     # Cálculo de rendimientos con ln STOCKS\n",
    "rend_index = rend(df_index)                                       # Cálculo de rendimientos con ln INDEX\n",
    "cov_stocks = cov(rend_stocks)                                     # Matirz varianza-covarianza STOCKS\n",
    "\n",
    "# Beta\n",
    "df_help = rend_stocks.join(rend_index)                            # Df de ayuda que une rend stocks y rend index \n",
    "cov_index = cov(df_help)                                          # Cov entre stocks e index\n",
    "bet = cov_index.iloc[:-1,-1] / np.var(rend_index)                 # Cálculo de las betas\n",
    "bet = pd.DataFrame(bet)                                           # Muestra las betas de forma linda"
   ]
  },
  {
   "cell_type": "code",
   "execution_count": null,
   "metadata": {},
   "outputs": [],
   "source": [
    "ds = {'Rendimiento' : rend_stocks.mean()*np.sqrt(factor)*100}\n",
    "resul = pd.DataFrame(ds)                                       # Df de resultados\n",
    "resul['Var'] = np.var(rend_stocks)                             # Varianza poblacional de los tickers\n",
    "resul['Risk'] = np.sqrt(resul['Var'])*100                      # Riesgo (desv.std) de los tickers\n",
    "resul['Beta'] = bet                                            # Betas respecto al mercado"
   ]
  },
  {
   "cell_type": "code",
   "execution_count": null,
   "metadata": {},
   "outputs": [],
   "source": [
    "rend_stocks.to_excel('Rendimiento de las acciones.xlsx')\n",
    "resul.to_excel('resul.xlsx')\n",
    "cov_stocks.to_excel('cov.xlsx')"
   ]
  },
  {
   "cell_type": "code",
   "execution_count": null,
   "metadata": {},
   "outputs": [],
   "source": [
    "44.30*15"
   ]
  },
  {
   "cell_type": "markdown",
   "metadata": {},
   "source": [
    "## Ayuda general"
   ]
  },
  {
   "cell_type": "code",
   "execution_count": null,
   "metadata": {},
   "outputs": [],
   "source": [
    "x = pd.DataFrame(df_stocks.isna().sum())\n",
    "x.loc['Close']"
   ]
  },
  {
   "cell_type": "code",
   "execution_count": null,
   "metadata": {},
   "outputs": [],
   "source": [
    "w = np.random.random(stocks_names)                            # Pesos random\n",
    "w = w / np.sum(w)                                                  # Normalizar pesos o sea que sume 1\n",
    "rend_p = np.sum(resul.iloc[:stocks_names,0] * w)              # Cálculo del rendimiento\n",
    "cov_p = np.dot(w.T, np.dot(cov_stocks * 52 , w))                   # Cálculo covrianza del portafolio\n",
    "risk_p = np.sqrt(cov_p) "
   ]
  },
  {
   "cell_type": "code",
   "execution_count": null,
   "metadata": {},
   "outputs": [],
   "source": [
    "rends = []\n",
    "risks = []\n",
    "\n",
    "for i in range(1000):\n",
    "    pesos = np.random.random(stocks_names)\n",
    "    pesos = pesos / np.sum(pesos)\n",
    "    rends.append(np.sum(resul.iloc[:stocks_names,0] * pesos))\n",
    "    risks.append(np.dot(pesos.T, np.dot(cov_stocks * 52 , pesos)))\n",
    "\n",
    "rends = np.array(rends)\n",
    "risks = np.array(risks)\n",
    "\n",
    "frontera = pd.DataFrame()\n",
    "frontera['Risk'] = risks \n",
    "frontera['Rendimiento'] = rends\n",
    "\n",
    "frontera\n",
    "fig = px.scatter(frontera, x = 'Risk', y = 'Rendimiento')\n",
    "fig.show()"
   ]
  }
 ],
 "metadata": {
  "kernelspec": {
   "display_name": "Python 3",
   "language": "python",
   "name": "python3"
  },
  "language_info": {
   "codemirror_mode": {
    "name": "ipython",
    "version": 3
   },
   "file_extension": ".py",
   "mimetype": "text/x-python",
   "name": "python",
   "nbconvert_exporter": "python",
   "pygments_lexer": "ipython3",
   "version": "3.7.4"
  }
 },
 "nbformat": 4,
 "nbformat_minor": 2
}
