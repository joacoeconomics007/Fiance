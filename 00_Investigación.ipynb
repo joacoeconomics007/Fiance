{
 "cells": [
  {
   "cell_type": "code",
   "execution_count": 1,
   "metadata": {},
   "outputs": [],
   "source": [
    "import pandas as pd\n",
    "import yfinance as yf\n",
    "import numpy as np\n",
    "import plotly.express as px\n",
    "import matplotlib.pyplot as plt"
   ]
  },
  {
   "cell_type": "code",
   "execution_count": 8,
   "metadata": {},
   "outputs": [],
   "source": [
    "list_index   = '^MXX, ^NYA, ^IXIC'\n",
    "list_bmv     = 'AC.MX AEROMEX.MX ALFA.MX ALSEA.MX AMXL.MX ASURB.MX BBAJIOO.MX BIMBOA.MX BOLSAA.MX CEMEXCPO.MX CUERVO.MX ELEKTRA.MX FEMSAUBD.MX GAPB.MX GCARSOA1.MX GCC.MX GFINBURO.MX GFNORTEO.MX GMEXICOB.MX GRUMAB.MX KIMBERA.MX LABB.MX LIVEPOLC-1.MX MEGACPO.MX OMAB.MX ORBIA.MX PE&OLES.MX PINFRA.MX Q.MX RA.MX SITESB-1.MX TLEVISACPO.MX VESTA.MX VOLARA.MX WALMEX.MX'\n",
    "list_sp500   = 'MMM ABT ABBV ABMD ACN ATVI ADBE AMD AAP AES AFL A APD AKAM ALK ALB ARE ALGN ALLE LNT ALL GOOGL GOOG MO AMZN AMCR AEE AAL AEP AXP AIG AMT AWK AMP ABC AME AMGN APH ADI ANSS ANTM AON AOS APA AAPL AMAT APTV ADM ANET AJG AIZ T ATO ADSK ADP AZO AVB AVY BKR BLL BAC BBWI BAX BDX BRK-B BBY BIO TECH BIIB BLK BK BA BKNG BWA BXP BSX BMY AVGO BR BRO BF-B CHRW CDNS CZR CPB COF CAH KMX CCL CARR CTLT CAT CBOE CBRE CDW CE CNC CNP CDAY CERN CF CRL SCHW CHTR CVX CMG CB CHD CI CINF CTAS CSCO C CFG CTXS CLX CME CMS KO CTSH CL CMCSA CMA CAG COP ED STZ COO CPRT GLW CTVA COST CTRA CCI CSX CMI CVS DHI DHR DRI DVA DE DAL XRAY DVN DXCM FANG DLR DFS DISCA DISCK DISH DG DLTR D DPZ DOV DOW DTE DUK DRE DD DXC EMN ETN EBAY ECL EIX EW EA EMR ENPH ETR EOG EFX EQIX EQR ESS EL ETSY EVRG ES RE EXC EXPE EXPD EXR XOM FFIV FB FAST FRT FDX FIS FITB FE FRC FISV FLT FMC F FTNT FTV FBHS FOXA FOX BEN FCX GPS GRMN IT GNRC GD GE GIS GM GPC GILD GL GPN GS GWW HAL HBI HIG HAS HCA PEAK HSIC HSY HES HPE HLT HOLX HD HON HRL HST HWM HPQ HUM HBAN HII IEX IDXX INFO ITW ILMN INCY IR INTC ICE IBM IP IPG IFF INTU ISRG IVZ IPGP IQV IRM JKHY J JBHT SJM JNJ JCI JPM JNPR KSU K KEY KEYS KMB KIM KMI KLAC KHC KR LHX LH LRCX LW LVS LEG LDOS LEN LLY LNC LIN LYV LKQ LMT L LOW LUMN LYB MTB MRO MPC MKTX MAR MMC MLM MAS MA MTCH MKC MCD MCK MDT MRK MET MTD MGM MCHP MU MSFT MAA MRNA MHK TAP MDLZ MPWR MNST MCO MS MOS MSI MSCI NDAQ NTAP NFLX NWL NEM NWSA NWS NEE NLSN NKE NI NSC NTRS NOC NLOK NCLH NRG NUE NVDA NVR NXPI ORLY OXY ODFL OMC OKE ORCL OGN OTIS PCAR PKG PH PAYX PAYC PYPL PENN PNR PBCT PEP PKI PFE PM PSX PNW PXD PNC POOL PPG PPL PFG PG PGR PLD PRU PTC PEG PSA PHM PVH QRVO PWR QCOM DGX RL RJF RTX O REG REGN RF RSG RMD RHI ROK ROL ROP ROST RCL SPGI CRM SBAC SLB STX SEE SRE NOW SHW SPG SWKS SNA SO LUV SWK SBUX STT STE SYK SIVB SYF SNPS SYY TMUS TROW TTWO TPR TGT TEL TDY TFX TER TSLA TXN TXT TMO TJX TSCO TT TDG TRV TRMB TFC TWTR TYL TSN UDR ULTA USB UAA UA UNP UAL UNH UPS URI UHS VLO VTR VRSN VRSK VZ VRTX VFC VIAC VTRS V VNO VMC WRB WAB WMT WBA DIS WM WAT WEC WFC WELL WST WDC WU WRK WY WHR WMB WLTW WYNN XEL XLNX XYL YUM ZBRA ZBH ZION ZTS'\n",
    "list_nasdaq  = 'ATVI ADBE AMD ALGN GOOG, GOOGL AMZN AAL AMGN ADI AAPL AMAT ASML ADSK ADP BIDU BIIB BMRN BKNG AVGO CDNS CERN CHTR CHKP CTAS CSCO CTXS CTSH CMCSA COST CSX DLTR EBAY EA EXPE FB FAST FISV FOX, FOXA GILD HAS HSIC IDXX ILMN INCY INTC INTU ISRG JBHT JD KLAC LRCX LBTYA, LBTYK LULU MAR MELI MCHP MU MSFT MDLZ MNST NTAP NTES NFLX NVDA NXPI ORLY PCAR PAYX PYPL PEP QCOM REGN ROST SIRI SWKS SBUX SNPS TTWO TSLA TXN KHC TMUS ULTA UAL VRSN VRSK VRTX WBA WDC WLTW WDAY WYNN XEL XLNX '"
   ]
  },
  {
   "cell_type": "code",
   "execution_count": 9,
   "metadata": {},
   "outputs": [
    {
     "name": "stdout",
     "output_type": "stream",
     "text": [
      "[*********************100%***********************]  35 of 35 completed\n",
      "[*********************100%***********************]  35 of 35 completed\n",
      "[*********************100%***********************]  505 of 505 completed\n",
      "[*********************100%***********************]  505 of 505 completed\n",
      "[*********************100%***********************]  97 of 97 completed\n",
      "[*********************100%***********************]  97 of 97 completed\n"
     ]
    }
   ],
   "source": [
    "periodicidad = '5y'\n",
    "intervalo = '1d'\n",
    "factor = 252\n",
    "\n",
    "# Nacional\n",
    "### BMV ###\n",
    "bmv = yf.download( list_bmv , period = periodicidad , interval = intervalo)\n",
    "bmv = bmv['Close']\n",
    "\n",
    "bmv_vol =  yf.download( list_bmv , period = periodicidad , interval = intervalo)\n",
    "bmv_vol = bmv_vol['Volume']\n",
    "\n",
    "# Internacional\n",
    "#### SP500 ####\n",
    "sp500 = yf.download( list_sp500 , period = periodicidad , interval = intervalo)\n",
    "sp500 = sp500['Close']\n",
    "\n",
    "sp500_vol =  yf.download( list_sp500 , period = periodicidad , interval = intervalo)\n",
    "sp500_vol = sp500_vol['Volume']\n",
    "\n",
    "#### Nasdaq ####\n",
    "nasdaq = yf.download( list_nasdaq , period = periodicidad , interval = intervalo)\n",
    "nasdaq = nasdaq['Close']\n",
    "\n",
    "nasdaq_vol = yf.download( list_nasdaq , period = periodicidad , interval = intervalo)\n",
    "nasdaq_vol = nasdaq_vol['Volume']"
   ]
  },
  {
   "cell_type": "code",
   "execution_count": 4,
   "metadata": {},
   "outputs": [],
   "source": [
    "# Juntando las tres\n",
    "overall = pd.concat([sp500, nasdaq, bmv], axis = 1)\n",
    "overall = overall.T.drop_duplicates()\n",
    "overall = overall.T\n",
    "overall_vol = pd.concat([sp500_vol, nasdaq_vol, bmv_vol], axis = 1)\n",
    "overall_vol = overall.T.drop_duplicates()\n",
    "overall_vol = overall_vol.T"
   ]
  },
  {
   "cell_type": "code",
   "execution_count": 5,
   "metadata": {},
   "outputs": [
    {
     "data": {
      "text/html": [
       "<div>\n",
       "<style scoped>\n",
       "    .dataframe tbody tr th:only-of-type {\n",
       "        vertical-align: middle;\n",
       "    }\n",
       "\n",
       "    .dataframe tbody tr th {\n",
       "        vertical-align: top;\n",
       "    }\n",
       "\n",
       "    .dataframe thead th {\n",
       "        text-align: right;\n",
       "    }\n",
       "</style>\n",
       "<table border=\"1\" class=\"dataframe\">\n",
       "  <thead>\n",
       "    <tr style=\"text-align: right;\">\n",
       "      <th></th>\n",
       "      <th>Rendimiento semanal</th>\n",
       "      <th>Precio hace 5 días</th>\n",
       "      <th>Ultimo precio</th>\n",
       "      <th>Volumen promedio semanal</th>\n",
       "    </tr>\n",
       "  </thead>\n",
       "  <tbody>\n",
       "    <tr>\n",
       "      <td>GFINBURO.MX</td>\n",
       "      <td>8.86</td>\n",
       "      <td>24.61</td>\n",
       "      <td>26.89</td>\n",
       "      <td>25.0</td>\n",
       "    </tr>\n",
       "    <tr>\n",
       "      <td>GCARSOA1.MX</td>\n",
       "      <td>7.38</td>\n",
       "      <td>60.60</td>\n",
       "      <td>65.24</td>\n",
       "      <td>63.0</td>\n",
       "    </tr>\n",
       "    <tr>\n",
       "      <td>CEMEXCPO.MX</td>\n",
       "      <td>6.66</td>\n",
       "      <td>13.06</td>\n",
       "      <td>13.96</td>\n",
       "      <td>14.0</td>\n",
       "    </tr>\n",
       "    <tr>\n",
       "      <td>LIVEPOLC-1.MX</td>\n",
       "      <td>6.58</td>\n",
       "      <td>87.07</td>\n",
       "      <td>92.99</td>\n",
       "      <td>91.0</td>\n",
       "    </tr>\n",
       "    <tr>\n",
       "      <td>GCC.MX</td>\n",
       "      <td>6.35</td>\n",
       "      <td>146.41</td>\n",
       "      <td>156.01</td>\n",
       "      <td>149.0</td>\n",
       "    </tr>\n",
       "    <tr>\n",
       "      <td>MEGACPO.MX</td>\n",
       "      <td>5.65</td>\n",
       "      <td>65.60</td>\n",
       "      <td>69.41</td>\n",
       "      <td>66.0</td>\n",
       "    </tr>\n",
       "    <tr>\n",
       "      <td>VOLARA.MX</td>\n",
       "      <td>5.08</td>\n",
       "      <td>38.01</td>\n",
       "      <td>39.99</td>\n",
       "      <td>39.0</td>\n",
       "    </tr>\n",
       "    <tr>\n",
       "      <td>GMEXICOB.MX</td>\n",
       "      <td>5.05</td>\n",
       "      <td>89.25</td>\n",
       "      <td>93.87</td>\n",
       "      <td>92.0</td>\n",
       "    </tr>\n",
       "    <tr>\n",
       "      <td>BIMBOA.MX</td>\n",
       "      <td>4.94</td>\n",
       "      <td>63.33</td>\n",
       "      <td>66.54</td>\n",
       "      <td>66.0</td>\n",
       "    </tr>\n",
       "    <tr>\n",
       "      <td>FEMSAUBD.MX</td>\n",
       "      <td>4.71</td>\n",
       "      <td>163.71</td>\n",
       "      <td>171.61</td>\n",
       "      <td>166.0</td>\n",
       "    </tr>\n",
       "  </tbody>\n",
       "</table>\n",
       "</div>"
      ],
      "text/plain": [
       "               Rendimiento semanal  Precio hace 5 días  Ultimo precio  \\\n",
       "GFINBURO.MX                   8.86               24.61          26.89   \n",
       "GCARSOA1.MX                   7.38               60.60          65.24   \n",
       "CEMEXCPO.MX                   6.66               13.06          13.96   \n",
       "LIVEPOLC-1.MX                 6.58               87.07          92.99   \n",
       "GCC.MX                        6.35              146.41         156.01   \n",
       "MEGACPO.MX                    5.65               65.60          69.41   \n",
       "VOLARA.MX                     5.08               38.01          39.99   \n",
       "GMEXICOB.MX                   5.05               89.25          93.87   \n",
       "BIMBOA.MX                     4.94               63.33          66.54   \n",
       "FEMSAUBD.MX                   4.71              163.71         171.61   \n",
       "\n",
       "               Volumen promedio semanal  \n",
       "GFINBURO.MX                        25.0  \n",
       "GCARSOA1.MX                        63.0  \n",
       "CEMEXCPO.MX                        14.0  \n",
       "LIVEPOLC-1.MX                      91.0  \n",
       "GCC.MX                            149.0  \n",
       "MEGACPO.MX                         66.0  \n",
       "VOLARA.MX                          39.0  \n",
       "GMEXICOB.MX                        92.0  \n",
       "BIMBOA.MX                          66.0  \n",
       "FEMSAUBD.MX                       166.0  "
      ]
     },
     "execution_count": 5,
     "metadata": {},
     "output_type": "execute_result"
    }
   ],
   "source": [
    "# Top 10\n",
    "rend_semanal = pd.DataFrame()\n",
    "rend_semanal['Rendimiento semanal'] = (np.log(overall.iloc[-1] / overall.iloc[-6])*100).round(2)\n",
    "rend_semanal['Precio hace 5 días'] = overall.iloc[-6].round(2)\n",
    "rend_semanal['Ultimo precio'] = overall.iloc[-1].round(2)\n",
    "rend_semanal['Volumen promedio semanal'] = overall_vol.iloc[-6:-1].mean().round(0)\n",
    "rend_semanal.sort_values('Rendimiento semanal',ascending=False).head(10)"
   ]
  },
  {
   "cell_type": "markdown",
   "metadata": {},
   "source": [
    "# Nacional"
   ]
  },
  {
   "cell_type": "code",
   "execution_count": 7,
   "metadata": {},
   "outputs": [
    {
     "name": "stdout",
     "output_type": "stream",
     "text": [
      "Introduce un ticker aeromex\n"
     ]
    },
    {
     "ename": "KeyError",
     "evalue": "'AEROMEX.MX'",
     "output_type": "error",
     "traceback": [
      "\u001b[1;31m---------------------------------------------------------------------------\u001b[0m",
      "\u001b[1;31mKeyError\u001b[0m                                  Traceback (most recent call last)",
      "\u001b[1;32mC:\\Anaconda3\\lib\\site-packages\\pandas\\core\\indexes\\base.py\u001b[0m in \u001b[0;36mget_loc\u001b[1;34m(self, key, method, tolerance)\u001b[0m\n\u001b[0;32m   2896\u001b[0m             \u001b[1;32mtry\u001b[0m\u001b[1;33m:\u001b[0m\u001b[1;33m\u001b[0m\u001b[1;33m\u001b[0m\u001b[0m\n\u001b[1;32m-> 2897\u001b[1;33m                 \u001b[1;32mreturn\u001b[0m \u001b[0mself\u001b[0m\u001b[1;33m.\u001b[0m\u001b[0m_engine\u001b[0m\u001b[1;33m.\u001b[0m\u001b[0mget_loc\u001b[0m\u001b[1;33m(\u001b[0m\u001b[0mkey\u001b[0m\u001b[1;33m)\u001b[0m\u001b[1;33m\u001b[0m\u001b[1;33m\u001b[0m\u001b[0m\n\u001b[0m\u001b[0;32m   2898\u001b[0m             \u001b[1;32mexcept\u001b[0m \u001b[0mKeyError\u001b[0m\u001b[1;33m:\u001b[0m\u001b[1;33m\u001b[0m\u001b[1;33m\u001b[0m\u001b[0m\n",
      "\u001b[1;32mpandas\\_libs\\index.pyx\u001b[0m in \u001b[0;36mpandas._libs.index.IndexEngine.get_loc\u001b[1;34m()\u001b[0m\n",
      "\u001b[1;32mpandas\\_libs\\index.pyx\u001b[0m in \u001b[0;36mpandas._libs.index.IndexEngine.get_loc\u001b[1;34m()\u001b[0m\n",
      "\u001b[1;32mpandas\\_libs\\hashtable_class_helper.pxi\u001b[0m in \u001b[0;36mpandas._libs.hashtable.PyObjectHashTable.get_item\u001b[1;34m()\u001b[0m\n",
      "\u001b[1;32mpandas\\_libs\\hashtable_class_helper.pxi\u001b[0m in \u001b[0;36mpandas._libs.hashtable.PyObjectHashTable.get_item\u001b[1;34m()\u001b[0m\n",
      "\u001b[1;31mKeyError\u001b[0m: 'AEROMEX.MX'",
      "\nDuring handling of the above exception, another exception occurred:\n",
      "\u001b[1;31mKeyError\u001b[0m                                  Traceback (most recent call last)",
      "\u001b[1;32m<ipython-input-7-9eafa4eb8700>\u001b[0m in \u001b[0;36m<module>\u001b[1;34m\u001b[0m\n\u001b[0;32m      1\u001b[0m \u001b[0mx\u001b[0m \u001b[1;33m=\u001b[0m \u001b[1;33m(\u001b[0m\u001b[0minput\u001b[0m\u001b[1;33m(\u001b[0m\u001b[1;34m'Introduce un ticker '\u001b[0m\u001b[1;33m)\u001b[0m\u001b[1;33m)\u001b[0m\u001b[1;33m.\u001b[0m\u001b[0mupper\u001b[0m\u001b[1;33m(\u001b[0m\u001b[1;33m)\u001b[0m \u001b[1;33m+\u001b[0m\u001b[1;34m'.MX'\u001b[0m\u001b[1;33m\u001b[0m\u001b[1;33m\u001b[0m\u001b[0m\n\u001b[1;32m----> 2\u001b[1;33m \u001b[0mdata1\u001b[0m \u001b[1;33m=\u001b[0m \u001b[0mbmv\u001b[0m\u001b[1;33m[\u001b[0m\u001b[0mx\u001b[0m\u001b[1;33m]\u001b[0m\u001b[1;33m.\u001b[0m\u001b[0mdropna\u001b[0m\u001b[1;33m(\u001b[0m\u001b[1;33m)\u001b[0m\u001b[1;33m\u001b[0m\u001b[1;33m\u001b[0m\u001b[0m\n\u001b[0m\u001b[0;32m      3\u001b[0m \u001b[0manalysis\u001b[0m \u001b[1;33m=\u001b[0m \u001b[0mpd\u001b[0m\u001b[1;33m.\u001b[0m\u001b[0mDataFrame\u001b[0m\u001b[1;33m(\u001b[0m\u001b[0mdata1\u001b[0m\u001b[1;33m)\u001b[0m\u001b[1;33m\u001b[0m\u001b[1;33m\u001b[0m\u001b[0m\n\u001b[0;32m      4\u001b[0m \u001b[0manalysis\u001b[0m\u001b[1;33m[\u001b[0m\u001b[1;34m'MA05'\u001b[0m\u001b[1;33m]\u001b[0m \u001b[1;33m=\u001b[0m \u001b[0manalysis\u001b[0m\u001b[1;33m[\u001b[0m\u001b[0mx\u001b[0m\u001b[1;33m]\u001b[0m\u001b[1;33m.\u001b[0m\u001b[0mrolling\u001b[0m\u001b[1;33m(\u001b[0m\u001b[1;36m5\u001b[0m\u001b[1;33m)\u001b[0m\u001b[1;33m.\u001b[0m\u001b[0mmean\u001b[0m\u001b[1;33m(\u001b[0m\u001b[1;33m)\u001b[0m\u001b[1;33m\u001b[0m\u001b[1;33m\u001b[0m\u001b[0m\n\u001b[0;32m      5\u001b[0m \u001b[0manalysis\u001b[0m\u001b[1;33m[\u001b[0m\u001b[1;34m'MA20'\u001b[0m\u001b[1;33m]\u001b[0m \u001b[1;33m=\u001b[0m \u001b[0manalysis\u001b[0m\u001b[1;33m[\u001b[0m\u001b[0mx\u001b[0m\u001b[1;33m]\u001b[0m\u001b[1;33m.\u001b[0m\u001b[0mrolling\u001b[0m\u001b[1;33m(\u001b[0m\u001b[1;36m20\u001b[0m\u001b[1;33m)\u001b[0m\u001b[1;33m.\u001b[0m\u001b[0mmean\u001b[0m\u001b[1;33m(\u001b[0m\u001b[1;33m)\u001b[0m\u001b[1;33m\u001b[0m\u001b[1;33m\u001b[0m\u001b[0m\n",
      "\u001b[1;32mC:\\Anaconda3\\lib\\site-packages\\pandas\\core\\frame.py\u001b[0m in \u001b[0;36m__getitem__\u001b[1;34m(self, key)\u001b[0m\n\u001b[0;32m   2978\u001b[0m             \u001b[1;32mif\u001b[0m \u001b[0mself\u001b[0m\u001b[1;33m.\u001b[0m\u001b[0mcolumns\u001b[0m\u001b[1;33m.\u001b[0m\u001b[0mnlevels\u001b[0m \u001b[1;33m>\u001b[0m \u001b[1;36m1\u001b[0m\u001b[1;33m:\u001b[0m\u001b[1;33m\u001b[0m\u001b[1;33m\u001b[0m\u001b[0m\n\u001b[0;32m   2979\u001b[0m                 \u001b[1;32mreturn\u001b[0m \u001b[0mself\u001b[0m\u001b[1;33m.\u001b[0m\u001b[0m_getitem_multilevel\u001b[0m\u001b[1;33m(\u001b[0m\u001b[0mkey\u001b[0m\u001b[1;33m)\u001b[0m\u001b[1;33m\u001b[0m\u001b[1;33m\u001b[0m\u001b[0m\n\u001b[1;32m-> 2980\u001b[1;33m             \u001b[0mindexer\u001b[0m \u001b[1;33m=\u001b[0m \u001b[0mself\u001b[0m\u001b[1;33m.\u001b[0m\u001b[0mcolumns\u001b[0m\u001b[1;33m.\u001b[0m\u001b[0mget_loc\u001b[0m\u001b[1;33m(\u001b[0m\u001b[0mkey\u001b[0m\u001b[1;33m)\u001b[0m\u001b[1;33m\u001b[0m\u001b[1;33m\u001b[0m\u001b[0m\n\u001b[0m\u001b[0;32m   2981\u001b[0m             \u001b[1;32mif\u001b[0m \u001b[0mis_integer\u001b[0m\u001b[1;33m(\u001b[0m\u001b[0mindexer\u001b[0m\u001b[1;33m)\u001b[0m\u001b[1;33m:\u001b[0m\u001b[1;33m\u001b[0m\u001b[1;33m\u001b[0m\u001b[0m\n\u001b[0;32m   2982\u001b[0m                 \u001b[0mindexer\u001b[0m \u001b[1;33m=\u001b[0m \u001b[1;33m[\u001b[0m\u001b[0mindexer\u001b[0m\u001b[1;33m]\u001b[0m\u001b[1;33m\u001b[0m\u001b[1;33m\u001b[0m\u001b[0m\n",
      "\u001b[1;32mC:\\Anaconda3\\lib\\site-packages\\pandas\\core\\indexes\\base.py\u001b[0m in \u001b[0;36mget_loc\u001b[1;34m(self, key, method, tolerance)\u001b[0m\n\u001b[0;32m   2897\u001b[0m                 \u001b[1;32mreturn\u001b[0m \u001b[0mself\u001b[0m\u001b[1;33m.\u001b[0m\u001b[0m_engine\u001b[0m\u001b[1;33m.\u001b[0m\u001b[0mget_loc\u001b[0m\u001b[1;33m(\u001b[0m\u001b[0mkey\u001b[0m\u001b[1;33m)\u001b[0m\u001b[1;33m\u001b[0m\u001b[1;33m\u001b[0m\u001b[0m\n\u001b[0;32m   2898\u001b[0m             \u001b[1;32mexcept\u001b[0m \u001b[0mKeyError\u001b[0m\u001b[1;33m:\u001b[0m\u001b[1;33m\u001b[0m\u001b[1;33m\u001b[0m\u001b[0m\n\u001b[1;32m-> 2899\u001b[1;33m                 \u001b[1;32mreturn\u001b[0m \u001b[0mself\u001b[0m\u001b[1;33m.\u001b[0m\u001b[0m_engine\u001b[0m\u001b[1;33m.\u001b[0m\u001b[0mget_loc\u001b[0m\u001b[1;33m(\u001b[0m\u001b[0mself\u001b[0m\u001b[1;33m.\u001b[0m\u001b[0m_maybe_cast_indexer\u001b[0m\u001b[1;33m(\u001b[0m\u001b[0mkey\u001b[0m\u001b[1;33m)\u001b[0m\u001b[1;33m)\u001b[0m\u001b[1;33m\u001b[0m\u001b[1;33m\u001b[0m\u001b[0m\n\u001b[0m\u001b[0;32m   2900\u001b[0m         \u001b[0mindexer\u001b[0m \u001b[1;33m=\u001b[0m \u001b[0mself\u001b[0m\u001b[1;33m.\u001b[0m\u001b[0mget_indexer\u001b[0m\u001b[1;33m(\u001b[0m\u001b[1;33m[\u001b[0m\u001b[0mkey\u001b[0m\u001b[1;33m]\u001b[0m\u001b[1;33m,\u001b[0m \u001b[0mmethod\u001b[0m\u001b[1;33m=\u001b[0m\u001b[0mmethod\u001b[0m\u001b[1;33m,\u001b[0m \u001b[0mtolerance\u001b[0m\u001b[1;33m=\u001b[0m\u001b[0mtolerance\u001b[0m\u001b[1;33m)\u001b[0m\u001b[1;33m\u001b[0m\u001b[1;33m\u001b[0m\u001b[0m\n\u001b[0;32m   2901\u001b[0m         \u001b[1;32mif\u001b[0m \u001b[0mindexer\u001b[0m\u001b[1;33m.\u001b[0m\u001b[0mndim\u001b[0m \u001b[1;33m>\u001b[0m \u001b[1;36m1\u001b[0m \u001b[1;32mor\u001b[0m \u001b[0mindexer\u001b[0m\u001b[1;33m.\u001b[0m\u001b[0msize\u001b[0m \u001b[1;33m>\u001b[0m \u001b[1;36m1\u001b[0m\u001b[1;33m:\u001b[0m\u001b[1;33m\u001b[0m\u001b[1;33m\u001b[0m\u001b[0m\n",
      "\u001b[1;32mpandas\\_libs\\index.pyx\u001b[0m in \u001b[0;36mpandas._libs.index.IndexEngine.get_loc\u001b[1;34m()\u001b[0m\n",
      "\u001b[1;32mpandas\\_libs\\index.pyx\u001b[0m in \u001b[0;36mpandas._libs.index.IndexEngine.get_loc\u001b[1;34m()\u001b[0m\n",
      "\u001b[1;32mpandas\\_libs\\hashtable_class_helper.pxi\u001b[0m in \u001b[0;36mpandas._libs.hashtable.PyObjectHashTable.get_item\u001b[1;34m()\u001b[0m\n",
      "\u001b[1;32mpandas\\_libs\\hashtable_class_helper.pxi\u001b[0m in \u001b[0;36mpandas._libs.hashtable.PyObjectHashTable.get_item\u001b[1;34m()\u001b[0m\n",
      "\u001b[1;31mKeyError\u001b[0m: 'AEROMEX.MX'"
     ]
    }
   ],
   "source": [
    "x = (input('Introduce un ticker ')).upper() +'.MX'\n",
    "data1 = bmv[x].dropna()\n",
    "analysis = pd.DataFrame(data1)\n",
    "analysis['MA05'] = analysis[x].rolling(5).mean()\n",
    "analysis['MA20'] = analysis[x].rolling(20).mean()\n",
    "analysis['MAX'] = analysis[x].max()\n",
    "analysis['MIN'] = analysis[x].min()\n",
    "analysis['MEAN'] = analysis[x].mean()\n",
    "analysis['Volumen'] = bmv_vol[x]\n",
    "px.line(analysis)"
   ]
  },
  {
   "cell_type": "code",
   "execution_count": null,
   "metadata": {},
   "outputs": [],
   "source": [
    "print('Precio máximo: ', max(df_nac[x].dropna()))\n",
    "print('Precio mínimo: ', min(df_nac[x].dropna()))\n",
    "print('Precio ayer: ', df_nac[x].dropna().iloc[-1])\n",
    "\n",
    "print('Vol máximo: ', max(df_nac_vol[x].dropna()))\n",
    "print('Vol mínimo: ', min(df_nac_vol[x].dropna()))\n",
    "print('Vol ayer: ', df_nac_vol[x].dropna().iloc[-1])"
   ]
  },
  {
   "cell_type": "markdown",
   "metadata": {},
   "source": [
    "# Internacional"
   ]
  },
  {
   "cell_type": "code",
   "execution_count": null,
   "metadata": {},
   "outputs": [],
   "source": [
    "# Internacional\n",
    "y = (input('Introduce un ticker ').upper())\n",
    "data2 = df_eua[y].dropna()\n",
    "analysis = pd.DataFrame(data2)\n",
    "analysis['MA05'] = analysis[y].rolling(5).mean()\n",
    "analysis['MA20'] = analysis[y].rolling(20).mean()\n",
    "analysis['MAX'] = analysis[y].max()\n",
    "analysis['MIN'] = analysis[y].min()\n",
    "analysis['MEAN'] = analysis[y].mean()\n",
    "px.line(analysis)"
   ]
  },
  {
   "cell_type": "code",
   "execution_count": null,
   "metadata": {},
   "outputs": [],
   "source": [
    "print('Precio máximo: ', max(df_eua[y].dropna()))\n",
    "print('Precio mínimo: ', min(df_eua[y].dropna()))\n",
    "print('Precio ayer: ', df_eua[y].dropna().iloc[-1])"
   ]
  },
  {
   "cell_type": "markdown",
   "metadata": {},
   "source": [
    "# Análisis"
   ]
  },
  {
   "cell_type": "code",
   "execution_count": null,
   "metadata": {},
   "outputs": [],
   "source": [
    "def rend(df):\n",
    "    return np.log(df / df.shift(1)).dropna()\n",
    "\n",
    "def cov(df):\n",
    "    return df.cov()\n",
    "\n",
    "# Rendimientos\n",
    "rend_stocks = rend(df_stocks)                                     # Cálculo de rendimientos con ln STOCKS\n",
    "rend_index = rend(df_index)                                       # Cálculo de rendimientos con ln INDEX\n",
    "cov_stocks = cov(rend_stocks)                                     # Matirz varianza-covarianza STOCKS\n",
    "\n",
    "# Beta\n",
    "df_help = rend_stocks.join(rend_index)                            # Df de ayuda que une rend stocks y rend index \n",
    "cov_index = cov(df_help)                                          # Cov entre stocks e index\n",
    "bet = cov_index.iloc[:-1,-1] / np.var(rend_index)                 # Cálculo de las betas\n",
    "bet = pd.DataFrame(bet)                                           # Muestra las betas de forma linda"
   ]
  },
  {
   "cell_type": "code",
   "execution_count": null,
   "metadata": {},
   "outputs": [],
   "source": [
    "ds = {'Rendimiento' : rend_stocks.mean()*np.sqrt(factor)*100}\n",
    "resul = pd.DataFrame(ds)                                       # Df de resultados\n",
    "resul['Var'] = np.var(rend_stocks)                             # Varianza poblacional de los tickers\n",
    "resul['Risk'] = np.sqrt(resul['Var'])*100                      # Riesgo (desv.std) de los tickers\n",
    "resul['Beta'] = bet                                            # Betas respecto al mercado"
   ]
  },
  {
   "cell_type": "code",
   "execution_count": null,
   "metadata": {},
   "outputs": [],
   "source": [
    "rend_stocks.to_excel('Rendimiento de las acciones.xlsx')\n",
    "resul.to_excel('resul.xlsx')\n",
    "cov_stocks.to_excel('cov.xlsx')"
   ]
  },
  {
   "cell_type": "code",
   "execution_count": null,
   "metadata": {},
   "outputs": [],
   "source": [
    "44.30*15"
   ]
  },
  {
   "cell_type": "markdown",
   "metadata": {},
   "source": [
    "## Ayuda general"
   ]
  },
  {
   "cell_type": "code",
   "execution_count": 6,
   "metadata": {},
   "outputs": [
    {
     "data": {
      "text/html": [
       "<div>\n",
       "<style scoped>\n",
       "    .dataframe tbody tr th:only-of-type {\n",
       "        vertical-align: middle;\n",
       "    }\n",
       "\n",
       "    .dataframe tbody tr th {\n",
       "        vertical-align: top;\n",
       "    }\n",
       "\n",
       "    .dataframe thead th {\n",
       "        text-align: right;\n",
       "    }\n",
       "</style>\n",
       "<table border=\"1\" class=\"dataframe\">\n",
       "  <thead>\n",
       "    <tr style=\"text-align: right;\">\n",
       "      <th></th>\n",
       "      <th>Nas</th>\n",
       "    </tr>\n",
       "  </thead>\n",
       "  <tbody>\n",
       "    <tr>\n",
       "      <td>OGN</td>\n",
       "      <td>1122</td>\n",
       "    </tr>\n",
       "    <tr>\n",
       "      <td>OTIS</td>\n",
       "      <td>831</td>\n",
       "    </tr>\n",
       "    <tr>\n",
       "      <td>CARR</td>\n",
       "      <td>831</td>\n",
       "    </tr>\n",
       "    <tr>\n",
       "      <td>CTVA</td>\n",
       "      <td>625</td>\n",
       "    </tr>\n",
       "    <tr>\n",
       "      <td>DOW</td>\n",
       "      <td>579</td>\n",
       "    </tr>\n",
       "    <tr>\n",
       "      <td>...</td>\n",
       "      <td>...</td>\n",
       "    </tr>\n",
       "    <tr>\n",
       "      <td>KHC</td>\n",
       "      <td>33</td>\n",
       "    </tr>\n",
       "    <tr>\n",
       "      <td>JNJ</td>\n",
       "      <td>33</td>\n",
       "    </tr>\n",
       "    <tr>\n",
       "      <td>JCI</td>\n",
       "      <td>33</td>\n",
       "    </tr>\n",
       "    <tr>\n",
       "      <td>J</td>\n",
       "      <td>33</td>\n",
       "    </tr>\n",
       "    <tr>\n",
       "      <td>MDLZ</td>\n",
       "      <td>33</td>\n",
       "    </tr>\n",
       "  </tbody>\n",
       "</table>\n",
       "<p>599 rows × 1 columns</p>\n",
       "</div>"
      ],
      "text/plain": [
       "       Nas\n",
       "OGN   1122\n",
       "OTIS   831\n",
       "CARR   831\n",
       "CTVA   625\n",
       "DOW    579\n",
       "...    ...\n",
       "KHC     33\n",
       "JNJ     33\n",
       "JCI     33\n",
       "J       33\n",
       "MDLZ    33\n",
       "\n",
       "[599 rows x 1 columns]"
      ]
     },
     "execution_count": 6,
     "metadata": {},
     "output_type": "execute_result"
    }
   ],
   "source": [
    "contador = pd.DataFrame()\n",
    "contador['Nas'] = overall.isna().sum()\n",
    "contador.sort_values('Nas', ascending = False)"
   ]
  },
  {
   "cell_type": "code",
   "execution_count": null,
   "metadata": {},
   "outputs": [],
   "source": [
    "x = pd.DataFrame(df_stocks.isna().sum())\n",
    "x.loc['Close']"
   ]
  },
  {
   "cell_type": "code",
   "execution_count": null,
   "metadata": {},
   "outputs": [],
   "source": [
    "w = np.random.random(stocks_names)                            # Pesos random\n",
    "w = w / np.sum(w)                                                  # Normalizar pesos o sea que sume 1\n",
    "rend_p = np.sum(resul.iloc[:stocks_names,0] * w)              # Cálculo del rendimiento\n",
    "cov_p = np.dot(w.T, np.dot(cov_stocks * 52 , w))                   # Cálculo covrianza del portafolio\n",
    "risk_p = np.sqrt(cov_p) "
   ]
  },
  {
   "cell_type": "code",
   "execution_count": null,
   "metadata": {},
   "outputs": [],
   "source": [
    "rends = []\n",
    "risks = []\n",
    "\n",
    "for i in range(1000):\n",
    "    pesos = np.random.random(stocks_names)\n",
    "    pesos = pesos / np.sum(pesos)\n",
    "    rends.append(np.sum(resul.iloc[:stocks_names,0] * pesos))\n",
    "    risks.append(np.dot(pesos.T, np.dot(cov_stocks * 52 , pesos)))\n",
    "\n",
    "rends = np.array(rends)\n",
    "risks = np.array(risks)\n",
    "\n",
    "frontera = pd.DataFrame()\n",
    "frontera['Risk'] = risks \n",
    "frontera['Rendimiento'] = rends\n",
    "\n",
    "frontera\n",
    "fig = px.scatter(frontera, x = 'Risk', y = 'Rendimiento')\n",
    "fig.show()"
   ]
  }
 ],
 "metadata": {
  "kernelspec": {
   "display_name": "Python 3",
   "language": "python",
   "name": "python3"
  },
  "language_info": {
   "codemirror_mode": {
    "name": "ipython",
    "version": 3
   },
   "file_extension": ".py",
   "mimetype": "text/x-python",
   "name": "python",
   "nbconvert_exporter": "python",
   "pygments_lexer": "ipython3",
   "version": "3.7.4"
  }
 },
 "nbformat": 4,
 "nbformat_minor": 2
}
